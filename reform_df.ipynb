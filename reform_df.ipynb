{
  "nbformat": 4,
  "nbformat_minor": 0,
  "metadata": {
    "colab": {
      "private_outputs": true,
      "provenance": [],
      "authorship_tag": "ABX9TyMya+nzUkB6m72YU3mQJTje",
      "include_colab_link": true
    },
    "kernelspec": {
      "name": "python3",
      "display_name": "Python 3"
    },
    "language_info": {
      "name": "python"
    }
  },
  "cells": [
    {
      "cell_type": "markdown",
      "metadata": {
        "id": "view-in-github",
        "colab_type": "text"
      },
      "source": [
        "<a href=\"https://colab.research.google.com/github/donghwi2022/AI_Bootcamp/blob/main/reform_df.ipynb\" target=\"_parent\"><img src=\"https://colab.research.google.com/assets/colab-badge.svg\" alt=\"Open In Colab\"/></a>"
      ]
    },
    {
      "cell_type": "code",
      "execution_count": null,
      "metadata": {
        "id": "VVAfdw-vtqVj"
      },
      "outputs": [],
      "source": [
        "import pandas as pd\n",
        "import matplotlib.pyplot as plt"
      ]
    },
    {
      "cell_type": "code",
      "source": [
        "# 차트 생성시 한글 깨짐 문제 해결\n",
        "# 실행시키고 재시작 권장\n",
        "\n",
        "!sudo apt-get install -y fonts-nanum\n",
        "!sudo fc-cache -fv\n",
        "!rm ~/.cache/matplotlib -rf\n",
        "\n",
        "plt.rc('font', family='NanumBarunGothic');"
      ],
      "metadata": {
        "id": "-lXG2uIuuN_a"
      },
      "execution_count": null,
      "outputs": []
    },
    {
      "cell_type": "code",
      "source": [
        "# url로 파일 불러오기\n",
        "\n",
        "url = \"파일 url\"\n",
        "df = pd.read_csv(url)\n",
        "df.head()"
      ],
      "metadata": {
        "id": "dHp7Ak1XuEtp"
      },
      "execution_count": null,
      "outputs": []
    },
    {
      "cell_type": "code",
      "source": [
        "# csv파일로 불러오기\n",
        "\n",
        "# csv파일 저장\n",
        "from google.colab import files\n",
        "uploaded = files.upload()\n",
        "\n",
        "# 저장된 파일 불러오기\n",
        "df = pd.read_csv('위의 코드로 저장한 파일 명')\n",
        "df.head()"
      ],
      "metadata": {
        "id": "n-cweaPJuhMo"
      },
      "execution_count": null,
      "outputs": []
    },
    {
      "cell_type": "code",
      "source": [
        "# 결측치 확인\n",
        "\n",
        "df.isnull().sum()"
      ],
      "metadata": {
        "id": "EvnE5fRrzP39"
      },
      "execution_count": null,
      "outputs": []
    },
    {
      "cell_type": "code",
      "source": [
        "# 중복값 확인\n",
        "\n",
        "df[df.duplicated(['column_명', 'column_명'])]"
      ],
      "metadata": {
        "id": "FkYAuAbH6Nxz"
      },
      "execution_count": null,
      "outputs": []
    },
    {
      "cell_type": "code",
      "source": [
        "# 결측치 제거\n",
        "\n",
        "df.dropna(subset=['row_column_명', 'row_column_명'], axis = 1, inplace = True) # subset : 기준으로 할 특정 column / axis : 행, 열 구분(열 삭제는 비추천) / inplace : 원본파일 변경 여부"
      ],
      "metadata": {
        "id": "kyVBwBYMzOHg"
      },
      "execution_count": null,
      "outputs": []
    },
    {
      "cell_type": "code",
      "source": [
        "# 행 또는 열 제거\n",
        "\n",
        "df.drop('row_column_명', axis = 1, inplace = True) # axis : 행(0, default), 열(1) 구분 / inplace : 원본파일 변경 여부"
      ],
      "metadata": {
        "id": "cjPi41je6Pud"
      },
      "execution_count": null,
      "outputs": []
    },
    {
      "cell_type": "code",
      "source": [
        "# 특정 column에서 숫자가 아닌 데이터 출력\n",
        "\n",
        "for i in range(5, 9) : # range는 column의 위치\n",
        "    df_1 = df.iloc[:, i].str.extract(r'([^\\.\\d])') # df에서 i번째 column의 .과 숫자가 아닌 문자를 추출(정규표현 사용)\n",
        "    print(df.columns[i], df_1[0].unique()) # NaN 값이 나오는데 개선 필요"
      ],
      "metadata": {
        "id": "0GtILP6gzoK4"
      },
      "execution_count": null,
      "outputs": []
    },
    {
      "cell_type": "code",
      "source": [
        "# 특정 column 내용 변경\n",
        "cols = df.columns[5:9] # 해당 column 명 저장\n",
        "\n",
        "# 적용시킬 함수 작성\n",
        "def function_name (parameter) : \n",
        "    return \n",
        "\n",
        "for i in cols : \n",
        "    df[i] = df[i].str.replace('M', '') # 해당 column의 데이터에서 M 문자 삭제\n",
        "    df1 = df[df.loc[:, i].str.contains('K')].loc[:, i].str.replace('K', '').astype(int).apply(function_name) # K가 들어가는 데이터에서 K 삭제 후 타입을 정수형으로 변경 후 함수 적용\n",
        "    for j in df1.index : \n",
        "        df.loc[j, i] = df1.loc[j] # df1의 값을 바탕으로 df의 값을 변경\n",
        "    df[i] = df[i].astype(float) # df의 타입 변경"
      ],
      "metadata": {
        "id": "RadNldmh5tBp"
      },
      "execution_count": null,
      "outputs": []
    },
    {
      "cell_type": "code",
      "source": [
        "# 특정 column 데이터 타입 변경\n",
        "\n",
        "df['column_명'] = df['column_명'].astype(type)"
      ],
      "metadata": {
        "id": "vL91a2UB4QTV"
      },
      "execution_count": null,
      "outputs": []
    },
    {
      "cell_type": "code",
      "source": [
        "# 데이터프레임 인덱스 재설정\n",
        "\n",
        "df.reset_index(drop=True, inplace = True) # drop : 기존 index를 새로운 column으로 만들지(미설정 시 새로운 column 생성, True 설정시 미생성) / inplace : 원본파일 변경 여부 "
      ],
      "metadata": {
        "id": "jta5LgpL3h8C"
      },
      "execution_count": null,
      "outputs": []
    }
  ]
}