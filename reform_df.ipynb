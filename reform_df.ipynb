{
  "nbformat": 4,
  "nbformat_minor": 0,
  "metadata": {
    "colab": {
      "private_outputs": true,
      "provenance": [],
      "authorship_tag": "ABX9TyNWSMfxfb7yG2rlmT3LG2Ia"
    },
    "kernelspec": {
      "name": "python3",
      "display_name": "Python 3"
    },
    "language_info": {
      "name": "python"
    }
  },
  "cells": [
    {
      "cell_type": "code",
      "execution_count": null,
      "metadata": {
        "id": "VVAfdw-vtqVj"
      },
      "outputs": [],
      "source": [
        "import pandas as pd\n",
        "import matplotlib.pyplot as plt"
      ]
    },
    {
      "cell_type": "code",
      "source": [
        "# 차트 생성시 한글 깨짐 문제 해결\n",
        "# 실행시키고 재시작 권장\n",
        "\n",
        "!sudo apt-get install -y fonts-nanum\n",
        "!sudo fc-cache -fv\n",
        "!rm ~/.cache/matplotlib -rf\n",
        "\n",
        "plt.rc('font', family='NanumBarunGothic');"
      ],
      "metadata": {
        "id": "-lXG2uIuuN_a"
      },
      "execution_count": null,
      "outputs": []
    },
    {
      "cell_type": "code",
      "source": [
        "# url로 파일 불러오기\n",
        "\n",
        "url = \"파일 url\"\n",
        "df = pd.read_csv(url)\n",
        "df.head()"
      ],
      "metadata": {
        "id": "dHp7Ak1XuEtp"
      },
      "execution_count": null,
      "outputs": []
    },
    {
      "cell_type": "code",
      "source": [
        "# csv파일 저장\n",
        "from google.colab import files\n",
        "uploaded = files.upload()\n",
        "\n",
        "# 저장된 파일 불러오기\n",
        "df = pd.read_csv('위의 코드로 저장한 파일 명')\n",
        "df.head()"
      ],
      "metadata": {
        "id": "n-cweaPJuhMo"
      },
      "execution_count": null,
      "outputs": []
    }
  ]
}